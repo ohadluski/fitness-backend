{
 "cells": [
  {
   "cell_type": "code",
   "execution_count": 12,
   "id": "5d9ff7c5",
   "metadata": {
    "scrolled": true
   },
   "outputs": [
    {
     "name": "stdout",
     "output_type": "stream",
     "text": [
      "Collecting package metadata (current_repodata.json): done\n",
      "Solving environment: done\n",
      "\n",
      "# All requested packages already installed.\n",
      "\n",
      "\n",
      "Note: you may need to restart the kernel to use updated packages.\n"
     ]
    }
   ],
   "source": [
    "conda install -c \"intel/label/oneapibeta\" daal4py"
   ]
  },
  {
   "cell_type": "code",
   "execution_count": 10,
   "id": "b8f56ea9",
   "metadata": {
    "scrolled": true
   },
   "outputs": [
    {
     "name": "stdout",
     "output_type": "stream",
     "text": [
      "Collecting package metadata (current_repodata.json): done\n",
      "Solving environment: done\n",
      "\n",
      "# All requested packages already installed.\n",
      "\n",
      "\n",
      "Note: you may need to restart the kernel to use updated packages.\n"
     ]
    }
   ],
   "source": [
    "conda install -c \"intel/label/oneapibeta\" numpy"
   ]
  },
  {
   "cell_type": "code",
   "execution_count": 39,
   "id": "3c92a7b1",
   "metadata": {},
   "outputs": [
    {
     "name": "stdout",
     "output_type": "stream",
     "text": [
      "Collecting package metadata (current_repodata.json): done\n",
      "Solving environment: done\n",
      "\n",
      "# All requested packages already installed.\n",
      "\n",
      "\n",
      "Note: you may need to restart the kernel to use updated packages.\n"
     ]
    }
   ],
   "source": [
    "conda install -c \"intel/label/oneapibeta\" matplotlib"
   ]
  },
  {
   "cell_type": "code",
   "execution_count": 12,
   "id": "9e62ccf2",
   "metadata": {},
   "outputs": [
    {
     "name": "stdout",
     "output_type": "stream",
     "text": [
      "Average BMI for men: 26.47\n",
      "Average BMI for women: 23.97\n"
     ]
    }
   ],
   "source": [
    "import numpy as np\n",
    "\n",
    "# Define sample height and weight data for men and women\n",
    "male_heights = np.random.normal(loc=1.75, scale=0.1, size=1000)\n",
    "male_weights = np.random.normal(loc=80, scale=10, size=1000)\n",
    "female_heights = np.random.normal(loc=1.60, scale=0.1, size=1000)\n",
    "female_weights = np.random.normal(loc=60, scale=10, size=1000)\n",
    "\n",
    "# Calculate BMI for men and women using the formula BMI = weight(kg) / (height(m))^2\n",
    "male_bmi = male_weights / male_heights ** 2\n",
    "female_bmi = female_weights / female_heights ** 2\n",
    "\n",
    "# Print the average BMI for men and women\n",
    "print(\"Average BMI for men: {:.2f}\".format(np.mean(male_bmi)))\n",
    "print(\"Average BMI for women: {:.2f}\".format(np.mean(female_bmi)))"
   ]
  },
  {
   "cell_type": "markdown",
   "id": "ce27189c",
   "metadata": {},
   "source": [
    "In this code, we use NumPy's random.normal() function to generate random sample data for 1000 men and 1000 women. We set the mean and standard deviation of the sample data for height and weight based on typical values for men and women.\n",
    "\n",
    "We then calculate BMI for men and women using the formula BMI = weight(kg) / (height(m))^2 and store the calculated values in separate NumPy arrays named male_bmi and female_bmi.\n",
    "\n",
    "Finally, we print the average BMI for men and women using NumPy's mean() function and format the output to two decimal places using the format() function. Note that we do not print each person's BMI, but instead, we only print the average BMI for men and women."
   ]
  },
  {
   "cell_type": "code",
   "execution_count": 1,
   "id": "57089501",
   "metadata": {},
   "outputs": [
    {
     "data": {
      "image/png": "iVBORw0KGgoAAAANSUhEUgAAAjMAAAGdCAYAAADnrPLBAAAAOXRFWHRTb2Z0d2FyZQBNYXRwbG90bGliIHZlcnNpb24zLjUuMiwgaHR0cHM6Ly9tYXRwbG90bGliLm9yZy8qNh9FAAAACXBIWXMAAA9hAAAPYQGoP6dpAAAh30lEQVR4nO3dfXSMd/7/8dc0YSRtEiVyx4hUQ6tuVlGV1SbRRhNq3dSupTdu2q4SeqOppeyX3oljq+tsdbW6bdB1tzdWnXJouiTU3RE3ZVHVloZKNqSaSYIEuX5/9JjfTgkZzWTmk30+zplzXJ/rmpk35wxP11yTsVmWZQkAAMBQN/h6AAAAgJ+CmAEAAEYjZgAAgNGIGQAAYDRiBgAAGI2YAQAARiNmAACA0YgZAABgtEBfD+BtVVVVOnHihEJCQmSz2Xw9DgAAqAHLslRaWqqYmBjdcMPVz73U+5g5ceKEHA6Hr8cAAADX4dixY2rRosVVj6n3MRMSEiLphz+M0NBQH08DAABqwul0yuFwuP4dv5p6HzOX3loKDQ0lZgAAMExNLhHhAmAAAGA0YgYAABiNmAEAAEYjZgAAgNGIGQAAYDRiBgAAGI2YAQAARiNmAACA0YgZAABgNGIGAAAYjZgBAABGI2YAAIDRiBkAAGA0YgYAABgt0NcDmK7VpNW+HgHwW0dn9vX1CAD+B3BmBgAAGI2YAQAARiNmAACA0YgZAABgNGIGAAAYjZgBAABGI2YAAIDRiBkAAGA0YgYAABiNmAEAAEYjZgAAgNGIGQAAYDSfxkxmZqa6deumkJAQRUREaMCAATp06JDbMSNGjJDNZnO73X333T6aGAAA+Bufxkxubq7S09O1bds2ZWdn68KFC+rdu7fKy8vdjktNTVVBQYHrtmbNGh9NDAAA/E2gL5987dq1bttZWVmKiIjQzp07de+997rW7Xa7oqKi6no8AABgAL+6ZqakpESS1KRJE7f1nJwcRUREqE2bNnryySdVVFRU7WNUVFTI6XS63QAAQP3lNzFjWZYmTJignj17qn379q71tLQ0LV68WOvXr9fs2bO1Y8cO9erVSxUVFVd8nMzMTIWFhbluDoejrn4LAADAB2yWZVm+HkKS0tPTtXr1an366adq0aJFtccVFBQoNjZWy5Yt06BBgy7bX1FR4RY6TqdTDodDJSUlCg0NrfW5W01aXeuPCdQXR2f29fUIAAzldDoVFhZWo3+/fXrNzCXjx4/XqlWrtHHjxquGjCRFR0crNjZWhw8fvuJ+u90uu93ujTEBAIAf8mnMWJal8ePH65///KdycnIUFxd3zfsUFxfr2LFjio6OroMJAQCAv/PpNTPp6en6y1/+oiVLligkJESFhYUqLCzU2bNnJUllZWXKyMjQ1q1bdfToUeXk5Khfv34KDw/XwIEDfTk6AADwEz49MzNv3jxJUlJSktt6VlaWRowYoYCAAO3bt0+LFi3S999/r+joaCUnJ2v58uUKCQnxwcQAAMDf+PxtpqsJCgrSunXr6mgaAABgIr/5aDYAAMD1IGYAAIDRiBkAAGA0YgYAABiNmAEAAEYjZgAAgNGIGQAAYDRiBgAAGI2YAQAARiNmAACA0YgZAABgNJ9+NxMAmKDVpNW+HgHwW0dn9vX1CJyZAQAAZiNmAACA0YgZAABgNGIGAAAYjZgBAABGI2YAAIDRiBkAAGA0YgYAABiNmAEAAEYjZgAAgNGIGQAAYDRiBgAAGI2YAQAARiNmAACA0YgZAABgNGIGAAAYjZgBAABGI2YAAIDRiBkAAGA0YgYAABiNmAEAAEYjZgAAgNGIGQAAYDRiBgAAGI2YAQAARiNmAACA0YgZAABgNGIGAAAYjZgBAABGI2YAAIDRiBkAAGA0YgYAABiNmAEAAEYjZgAAgNGIGQAAYDRiBgAAGI2YAQAARiNmAACA0YgZAABgNGIGAAAYjZgBAABGI2YAAIDRiBkAAGA0YgYAABjNpzGTmZmpbt26KSQkRBERERowYIAOHTrkdoxlWZo+fbpiYmIUFBSkpKQk7d+/30cTAwAAf+PTmMnNzVV6erq2bdum7OxsXbhwQb1791Z5ebnrmFmzZumNN97Q3LlztWPHDkVFRSklJUWlpaU+nBwAAPiLQF8++dq1a922s7KyFBERoZ07d+ree++VZVmaM2eOpkyZokGDBkmSFi5cqMjISC1ZskSjR4/2xdgAAMCP+NU1MyUlJZKkJk2aSJKOHDmiwsJC9e7d23WM3W5XYmKitmzZcsXHqKiokNPpdLsBAID6y29ixrIsTZgwQT179lT79u0lSYWFhZKkyMhIt2MjIyNd+34sMzNTYWFhrpvD4fDu4AAAwKf8JmbGjRunvXv3aunSpZfts9lsbtuWZV22dsnkyZNVUlLiuh07dswr8wIAAP/g02tmLhk/frxWrVqljRs3qkWLFq71qKgoST+coYmOjnatFxUVXXa25hK73S673e7dgQEAgN/w6ZkZy7I0btw4rVixQuvXr1dcXJzb/ri4OEVFRSk7O9u1VllZqdzcXCUkJNT1uAAAwA/59MxMenq6lixZog8//FAhISGu62DCwsIUFBQkm82mZ599VjNmzFB8fLzi4+M1Y8YMBQcHa9iwYb4cHQAA+Amfxsy8efMkSUlJSW7rWVlZGjFihCRp4sSJOnv2rMaOHavTp0+re/fu+vjjjxUSElLH0wIAAH/k05ixLOuax9hsNk2fPl3Tp0/3/kAAAMA4fvNpJgAAgOtBzAAAAKMRMwAAwGjEDAAAMBoxAwAAjEbMAAAAoxEzAADAaMQMAAAwGjEDAACMRswAAACjETMAAMBoxAwAADAaMQMAAIxGzAAAAKMRMwAAwGjEDAAAMBoxAwAAjEbMAAAAoxEzAADAaMQMAAAwGjEDAACMRswAAACjETMAAMBoxAwAADAaMQMAAIxGzAAAAKMRMwAAwGjEDAAAMBoxAwAAjEbMAAAAoxEzAADAaMQMAAAwGjEDAACMRswAAACjETMAAMBogTU9sHPnzrLZbNc8bteuXT9pIAAAAE/UOGYGDBjgxTEAAACuT41jZtq0ad6cAwAA4LpwzQwAADBajc/M9OrVq0bHrV+//rqHAQAA8FSNYyYnJ0exsbHq27evGjRo4M2ZAAAAaqzGMTNz5kwtWLBAf/vb3/Twww9r1KhRat++vTdnAwAAuKYaXzMzceJEHThwQCtXrlRpaal+/vOf66677tLbb78tp9PpzRkBAACq5fEFwD169NC7776rgoICpaen6/3331dMTAxBAwAAfOK6P820a9cu5ebm6uDBg2rfvj3X0QAAAJ/wKGZOnDihGTNmqE2bNho8eLCaNGmi7du3a9u2bQoKCvLWjAAAANWq8QXAffr00YYNG9S7d2/9/ve/V9++fRUYWOO7AwAAeEWNa2Tt2rWKjo5Wfn6+XnrpJb300ktXPI7vZgIAAHWJrzMAAABGI2YAAIDRfvJ3M1VWVqqsrKw2ZgEAAPCYRzGTlZWl8ePHa/HixZKkyZMnKyQkRGFhYUpJSVFxcbFXhgQAAKhOjWPmtddeU3p6ug4ePKinn35aY8aM0YIFC/Tyyy9r5syZ+vzzzzV16lRvzgoAAHCZGl8zs2DBAr333nsaOnSo8vLy1L17dy1fvlyDBw+WJLVv315PPfWU1wYFAAC4khqfmcnPz1fPnj0lSV27dlVgYKA6dOjg2t+xY0cVFBTU/oQAAABXUeOYOX/+vOx2u2u7YcOGbl9hEBgYqIsXL9budAAAANfg0QXABw4c0N69e7V3715ZlqXPP//ctb1//36Pn3zjxo3q16+fYmJiZLPZtHLlSrf9I0aMkM1mc7vdfffdHj8PAACovzz6PoL77rtPlmW5th988EFJks1mk2VZstlsHj15eXm5OnXqpJEjR+qhhx664jGpqanKyspybTds2NCj5wAAAPVbjWPmyJEjtf7kaWlpSktLu+oxdrtdUVFRtf7cAACgfqhxzMTGxnpzjmrl5OQoIiJCjRs3VmJiol577TVFRERUe3xFRYUqKipc206nsy7GBAAAPvKTfwKwN6WlpWnx4sVav369Zs+erR07dqhXr15usfJjmZmZCgsLc90cDkcdTgwAAOqaR9fM1LUhQ4a4ft2+fXt17dpVsbGxWr16tQYNGnTF+0yePFkTJkxwbTudToIGAIB6zK9j5seio6MVGxurw4cPV3uM3W53+wg5AACo3/z6baYfKy4u1rFjxxQdHe3rUQAAgJ+4rpi5cOGCPvnkE73zzjsqLS2VJJ04ccLjb88uKyvTnj17tGfPHkk/fGJqz549ys/PV1lZmTIyMrR161YdPXpUOTk56tevn8LDwzVw4MDrGRsAANRDHr/N9M033yg1NVX5+fmqqKhQSkqKQkJCNGvWLJ07d05vv/12jR8rLy9PycnJru1L17oMHz5c8+bN0759+7Ro0SJ9//33io6OVnJyspYvX66QkBBPxwYAAPWUxzHzzDPPqGvXrvrss8/UtGlT1/rAgQP1xBNPePRYSUlJbj+E78fWrVvn6XgAAOB/jMcx8+mnn2rz5s2X/STe2NhYffvtt7U2GAAAQE14fM1MVVXVFb9Q8vjx47z9AwAA6pzHMZOSkqI5c+a4tm02m8rKyjRt2jT16dOnNmcDAAC4Jo/fZvrDH/6g5ORktWvXTufOndOwYcN0+PBhhYeHa+nSpd6YEQAAoFoex0xMTIz27NmjpUuXateuXaqqqtLjjz+uhx9+WEFBQd6YEQAAoFrX9ROAg4KCNGrUKI0aNaq25wEAAPCIxzGzatWqK67bbDY1atRIt956q+Li4n7yYAAAADXhccwMGDBANpvtsp8Pc2nNZrOpZ8+eWrlypW6++eZaGxQAAOBKPP40U3Z2trp166bs7GyVlJSopKRE2dnZuuuuu/TRRx9p48aNKi4uVkZGhjfmBQAAcHNdPwF4/vz5SkhIcK3dd999atSokX7zm99o//79mjNnDtfTAACAOuHxmZmvvvpKoaGhl62Hhobq66+/liTFx8fr1KlTP306AACAa/A4Zrp06aIXXnhBJ0+edK2dPHlSEydOVLdu3SRJhw8fVosWLWpvSgAAgGp4/DbTe++9p/79+6tFixZyOByy2WzKz8/XLbfcog8//FCSVFZWpt/97ne1PiwAAMCPeRwzbdu21cGDB7Vu3Tp98cUXsixLt912m1JSUnTDDT+c6BkwYEBtzwkAAHBF1/VD82w2m1JTU5Wamlrb8wAAAHjkumKmvLxcubm5ys/PV2Vlpdu+p59+ulYGAwAAqAmPY2b37t3q06ePzpw5o/LycjVp0kSnTp1ScHCwIiIiiBkAAFCnPP4003PPPad+/frpu+++U1BQkLZt26ZvvvlGXbp00euvv+6NGQEAAKrlcczs2bNHzz//vAICAhQQEKCKigo5HA7NmjVLL774ojdmBAAAqJbHMdOgQQPZbDZJUmRkpPLz8yVJYWFhrl8DAADUFY+vmencubPy8vLUpk0bJScn6//+7/906tQpffDBB+rQoYM3ZgQAAKiWx2dmZsyYoejoaEnSK6+8oqZNm2rMmDEqKirS/Pnza31AAACAq/HozIxlWWrWrJnuuOMOSVKzZs20Zs0arwwGAABQEx6dmbEsS/Hx8Tp+/Li35gEAAPCIRzFzww03KD4+XsXFxd6aBwAAwCMeXzMza9YsvfDCC/r3v//tjXkAAAA84vGnmR555BGdOXNGnTp1UsOGDRUUFOS2/7vvvqu14QAAAK7F45iZM2eOF8YAAAC4Ph7HzPDhw70xBwAAwHXx+JoZSfrqq680depUDR06VEVFRZKktWvXav/+/bU6HAAAwLV4HDO5ubnq0KGDtm/frhUrVqisrEyStHfvXk2bNq3WBwQAALgaj2Nm0qRJevXVV5Wdna2GDRu61pOTk7V169ZaHQ4AAOBaPI6Zffv2aeDAgZetN2vWjJ8/AwAA6pzHMdO4cWMVFBRctr579241b968VoYCAACoKY9jZtiwYfrtb3+rwsJC2Ww2VVVVafPmzcrIyNBjjz3mjRkBAACq5XHMvPbaa2rZsqWaN2+usrIytWvXTvfee68SEhI0depUb8wIAABQLY9/zkyDBg20ePFivfzyy9q9e7eqqqrUuXNnxcfHe2M+AACAq/I4ZnJzc5WYmKjWrVurdevW3pgJAACgxjx+myklJUUtW7bUpEmT+LJJAADgcx7HzIkTJzRx4kRt2rRJHTt2VMeOHTVr1iwdP37cG/MBAABclccxEx4ernHjxmnz5s366quvNGTIEC1atEitWrVSr169vDEjAABAta7ru5kuiYuL06RJkzRz5kx16NBBubm5tTUXAABAjVx3zGzevFljx45VdHS0hg0bpjvuuEMfffRRbc4GAABwTR5/munFF1/U0qVLdeLECd1///2aM2eOBgwYoODgYG/MBwAAcFUex0xOTo4yMjI0ZMgQhYeHu+3bs2ePfvazn9XWbAAAANfkccxs2bLFbbukpESLFy/Wn//8Z3322We6ePFirQ0HAABwLdd9zcz69ev1yCOPKDo6Wm+++ab69OmjvLy82pwNAADgmjw6M3P8+HEtWLBA77//vsrLy/WrX/1K58+f1z/+8Q+1a9fOWzMCAABUq8ZnZvr06aN27drpwIEDevPNN3XixAm9+eab3pwNAADgmmp8Zubjjz/W008/rTFjxvClkgAAwG/U+MzMpk2bVFpaqq5du6p79+6aO3euTp486c3ZAAAArqnGMdOjRw+9++67Kigo0OjRo7Vs2TI1b95cVVVVys7OVmlpqTfnBAAAuCKPP80UHBysUaNG6dNPP9W+ffv0/PPPa+bMmYqIiNAvfvELb8wIAABQrZ/03Uxt27Z1fWP20qVLa2smAACAGvtJMXNJQECABgwYoFWrVtXGwwEAANRYrcQMAACAr/g0ZjZu3Kh+/fopJiZGNptNK1eudNtvWZamT5+umJgYBQUFKSkpSfv37/fNsAAAwC/5NGbKy8vVqVMnzZ0794r7Z82apTfeeENz587Vjh07FBUVpZSUFD45BQAAXDz+osnalJaWprS0tCvusyxLc+bM0ZQpUzRo0CBJ0sKFCxUZGaklS5Zo9OjRdTkqAADwU357zcyRI0dUWFio3r17u9bsdrsSExMv++bu/1ZRUSGn0+l2AwAA9ZffxkxhYaEkKTIy0m09MjLSte9KMjMzFRYW5ro5HA6vzgkAAHzLb2PmEpvN5rZtWdZla/9t8uTJKikpcd2OHTvm7REBAIAP+fSamauJioqS9MMZmujoaNd6UVHRZWdr/pvdbpfdbvf6fAAAwD/47ZmZuLg4RUVFKTs727VWWVmp3NxcJSQk+HAyAADgT3x6ZqasrExffvmla/vIkSPas2ePmjRpopYtW+rZZ5/VjBkzFB8fr/j4eM2YMUPBwcEaNmyYD6cGAAD+xKcxk5eXp+TkZNf2hAkTJEnDhw/XggULNHHiRJ09e1Zjx47V6dOn1b17d3388ccKCQnx1cgAAMDP+DRmkpKSZFlWtfttNpumT5+u6dOn191QAADAKH57zQwAAEBNEDMAAMBoxAwAADAaMQMAAIxGzAAAAKMRMwAAwGjEDAAAMBoxAwAAjEbMAAAAoxEzAADAaMQMAAAwGjEDAACMRswAAACjETMAAMBoxAwAADAaMQMAAIxGzAAAAKMRMwAAwGjEDAAAMBoxAwAAjEbMAAAAoxEzAADAaMQMAAAwGjEDAACMRswAAACjETMAAMBoxAwAADAaMQMAAIxGzAAAAKMRMwAAwGjEDAAAMBoxAwAAjEbMAAAAoxEzAADAaMQMAAAwGjEDAACMRswAAACjETMAAMBoxAwAADAaMQMAAIxGzAAAAKMRMwAAwGjEDAAAMBoxAwAAjEbMAAAAoxEzAADAaMQMAAAwGjEDAACMRswAAACjETMAAMBoxAwAADAaMQMAAIxGzAAAAKMRMwAAwGjEDAAAMBoxAwAAjObXMTN9+nTZbDa3W1RUlK/HAgAAfiTQ1wNcyx133KFPPvnEtR0QEODDaQAAgL/x+5gJDAzkbAwAAKiWX7/NJEmHDx9WTEyM4uLi9Otf/1pff/31VY+vqKiQ0+l0uwEAgPrLr2Ome/fuWrRokdatW6d3331XhYWFSkhIUHFxcbX3yczMVFhYmOvmcDjqcGIAAFDX/Dpm0tLS9NBDD6lDhw66//77tXr1aknSwoULq73P5MmTVVJS4rodO3asrsYFAAA+4PfXzPy3G2+8UR06dNDhw4erPcZut8tut9fhVAAAwJf8+szMj1VUVOjgwYOKjo729SgAAMBP+HXMZGRkKDc3V0eOHNH27ds1ePBgOZ1ODR8+3NejAQAAP+HXbzMdP35cQ4cO1alTp9SsWTPdfffd2rZtm2JjY309GgAA8BN+HTPLli3z9QgAAMDP+fXbTAAAANdCzAAAAKMRMwAAwGjEDAAAMBoxAwAAjEbMAAAAoxEzAADAaMQMAAAwGjEDAACMRswAAACjETMAAMBoxAwAADAaMQMAAIxGzAAAAKMRMwAAwGjEDAAAMBoxAwAAjEbMAAAAoxEzAADAaMQMAAAwGjEDAACMRswAAACjETMAAMBoxAwAADAaMQMAAIxGzAAAAKMRMwAAwGjEDAAAMBoxAwAAjEbMAAAAoxEzAADAaMQMAAAwGjEDAACMRswAAACjETMAAMBoxAwAADAaMQMAAIxGzAAAAKMRMwAAwGjEDAAAMBoxAwAAjEbMAAAAoxEzAADAaMQMAAAwGjEDAACMRswAAACjETMAAMBoxAwAADAaMQMAAIxGzAAAAKMRMwAAwGjEDAAAMBoxAwAAjEbMAAAAoxEzAADAaMQMAAAwmhEx86c//UlxcXFq1KiRunTpok2bNvl6JAAA4Cf8PmaWL1+uZ599VlOmTNHu3bt1zz33KC0tTfn5+b4eDQAA+AG/j5k33nhDjz/+uJ544gndfvvtmjNnjhwOh+bNm+fr0QAAgB8I9PUAV1NZWamdO3dq0qRJbuu9e/fWli1brnifiooKVVRUuLZLSkokSU6n0yszVlWc8crjAvWBt153dY3XOVA9b73OLz2uZVnXPNavY+bUqVO6ePGiIiMj3dYjIyNVWFh4xftkZmbqpZdeumzd4XB4ZUYA1Qub4+sJAHibt1/npaWlCgsLu+oxfh0zl9hsNrdty7IuW7tk8uTJmjBhgmu7qqpK3333nZo2bVrtfVA/OJ1OORwOHTt2TKGhob4eB4AX8Dr/32FZlkpLSxUTE3PNY/06ZsLDwxUQEHDZWZiioqLLztZcYrfbZbfb3dYaN27srRHhh0JDQ/lLDqjneJ3/b7jWGZlL/PoC4IYNG6pLly7Kzs52W8/OzlZCQoKPpgIAAP7Er8/MSNKECRP06KOPqmvXrurRo4fmz5+v/Px8PfXUU74eDQAA+AG/j5khQ4aouLhYL7/8sgoKCtS+fXutWbNGsbGxvh4NfsZut2vatGmXvc0IoP7gdY4rsVk1+cwTAACAn/Lra2YAAACuhZgBAABGI2YAAIDRiBkAAGA0YgZ+a8SIEbLZbFf8GP7YsWNls9k0YsSIuh8MQLXefvtthYSE6MKFC661srIyNWjQQPfcc4/bsZs2bZLNZtMXX3xR12OiniFm4NccDoeWLVums2fPutbOnTunpUuXqmXLlj6cDMCVJCcnq6ysTHl5ea61TZs2KSoqSjt27NCZM///SztzcnIUExOjNm3a+GJU1CPEDPzanXfeqZYtW2rFihWutRUrVsjhcKhz586uNcuyNGvWLN1yyy0KCgpSp06d9Pe//921PycnRzabTf/617/UtWtXBQcHKyEhQYcOHarT3w9Q37Vt21YxMTHKyclxreXk5Kh///5q3bq1tmzZ4raenJys06dP67HHHtPNN9+s4OBgpaWl6fDhw67jFixYoMaNG+ujjz5S27ZtFRwcrMGDB6u8vFwLFy5Uq1atdPPNN2v8+PG6ePGi636VlZWaOHGimjdvrhtvvFHdu3d3m+vS465bt0633367brrpJqWmpqqgoMCrf0aofcQM/N7IkSOVlZXl2n7//fc1atQot2OmTp2qrKwszZs3T/v379dzzz2nRx55RLm5uW7HTZkyRbNnz1ZeXp4CAwMvexwAP11SUpI2bNjg2t6wYYOSkpKUmJjoWq+srNTWrVuVnJysESNGKC8vT6tWrdLWrVtlWZb69Omj8+fPux7jzJkz+uMf/6hly5Zp7dq1ysnJ0aBBg7RmzRqtWbNGH3zwgebPn+/2n5iRI0dq8+bNWrZsmfbu3atf/vKXSk1NdQulM2fO6PXXX9cHH3ygjRs3Kj8/XxkZGXXwp4RaZQF+avjw4Vb//v2tkydPWna73Tpy5Ih19OhRq1GjRtbJkyet/v37W8OHD7fKysqsRo0aWVu2bHG7/+OPP24NHTrUsizL2rBhgyXJ+uSTT1z7V69ebUmyzp49W6e/L6C+mz9/vnXjjTda58+ft5xOpxUYGGj95z//sZYtW2YlJCRYlmVZubm5liTr888/tyRZmzdvdt3/1KlTVlBQkPXXv/7VsizLysrKsiRZX375peuY0aNHW8HBwVZpaalr7YEHHrBGjx5tWZZlffnll5bNZrO+/fZbt9nuu+8+a/LkydU+7ltvvWVFRkbW8p8IvM3vv84ACA8PV9++fbVw4UJZlqW+ffsqPDzctf/AgQM6d+6cUlJS3O5XWVnp9laUJHXs2NH16+joaEk/fAs7198AtSc5OVnl5eXasWOHTp8+rTZt2igiIkKJiYl69NFHVV5erpycHLVs2VKHDh1SYGCgunfv7rp/06ZN1bZtWx08eNC1FhwcrNatW7u2IyMj1apVK910001ua0VFRZKkXbt2ybKsy67HqaioUNOmTat93OjoaNdjwBzEDIwwatQojRs3TpL01ltvue2rqqqSJK1evVrNmzd32/fj729p0KCB69c2m83t/gBqx6233qoWLVpow4YNOn36tBITEyVJUVFRiouL0+bNm7Vhwwb16tVLVjXfqGNZlus1Krm/dqUfXr9XWrv0eq6qqlJAQIB27typgIAAt+P+O4Cu9BjVzQT/RczACKmpqaqsrJQkPfDAA2772rVrJ7vdrvz8fNdfmgB8Kzk5WTk5OTp9+rReeOEF13piYqLWrVunbdu2aeTIkWrXrp0uXLig7du3KyEhQZJUXFysL774Qrfffvt1P3/nzp118eJFFRUVXfaRcNQ/xAyMEBAQ4Drl/OP/ZYWEhCgjI0PPPfecqqqq1LNnTzmdTm3ZskU33XSThg8f7ouRgf9pycnJSk9P1/nz593+k5GYmKgxY8bo3LlzSk5OlsPhUP/+/fXkk0/qnXfeUUhIiCZNmqTmzZurf//+1/38bdq00cMPP6zHHntMs2fPVufOnXXq1CmtX79eHTp0UJ8+fWrjtwk/QczAGKGhodXue+WVVxQREaHMzEx9/fXXaty4se688069+OKLdTghgEuSk5N19uxZ3XbbbYqMjHStJyYmqrS0VK1bt5bD4ZAkZWVl6ZlnntGDDz6oyspK3XvvvVqzZs1lbwF5KisrS6+++qqef/55ffvtt2ratKl69OhByNRDNos3BwEAgMH4OTMAAMBoxAwAADAaMQMAAIxGzAAAAKMRMwAAwGjEDAAAMBoxAwAAjEbMAAAAoxEzAADAaMQMAAAwGjEDAACMRswAAACj/T/IQ6JkJ4DJUAAAAABJRU5ErkJggg==\n",
      "text/plain": [
       "<Figure size 640x480 with 1 Axes>"
      ]
     },
     "metadata": {},
     "output_type": "display_data"
    }
   ],
   "source": [
    "import numpy as np\n",
    "import matplotlib.pyplot as plt\n",
    "\n",
    "# Define sample height and weight data for men and women\n",
    "male_heights = np.random.normal(loc=1.75, scale=0.1, size=1000)\n",
    "male_weights = np.random.normal(loc=80, scale=10, size=1000)\n",
    "female_heights = np.random.normal(loc=1.60, scale=0.1, size=1000)\n",
    "female_weights = np.random.normal(loc=60, scale=10, size=1000)\n",
    "\n",
    "# Calculate BMI for men and women using the formula BMI = weight(kg) / (height(m))^2\n",
    "male_bmi = male_weights / male_heights ** 2\n",
    "female_bmi = female_weights / female_heights ** 2\n",
    "\n",
    "# Calculate the average BMI for men and women\n",
    "avg_male_bmi = np.mean(male_bmi)\n",
    "avg_female_bmi = np.mean(female_bmi)\n",
    "\n",
    "# Create a bar plot of average BMI for men and women\n",
    "plt.bar(['Men', 'Women'], [avg_male_bmi, avg_female_bmi])\n",
    "plt.ylabel('Average BMI')\n",
    "plt.show()"
   ]
  },
  {
   "cell_type": "markdown",
   "id": "95f96ef3",
   "metadata": {},
   "source": [
    "In this code, we calculate the average BMI for men and women using the np.mean() function and store the results in the variables avg_male_bmi and avg_female_bmi.\n",
    "\n",
    "We then create a bar plot using Matplotlib's bar() function, with the x-axis labeled as \"Men\" and \"Women\" using the list ['Men', 'Women'], and the y-axis labeled as \"Average BMI\" using the ylabel() function. Finally, we use the show() function to display the plot."
   ]
  }
 ],
 "metadata": {
  "kernelspec": {
   "display_name": "Python 3 (ipykernel)",
   "language": "python",
   "name": "python3"
  },
  "language_info": {
   "codemirror_mode": {
    "name": "ipython",
    "version": 3
   },
   "file_extension": ".py",
   "mimetype": "text/x-python",
   "name": "python",
   "nbconvert_exporter": "python",
   "pygments_lexer": "ipython3",
   "version": "3.9.13"
  }
 },
 "nbformat": 4,
 "nbformat_minor": 5
}

#Ohad
